{
  "nbformat": 4,
  "nbformat_minor": 0,
  "metadata": {
    "colab": {
      "name": "Copy of Final Exam.ipynb",
      "provenance": [],
      "authorship_tag": "ABX9TyPJi542oAbZD5BLzl6qy/A2",
      "include_colab_link": true
    },
    "kernelspec": {
      "name": "python3",
      "display_name": "Python 3"
    },
    "language_info": {
      "name": "python"
    }
  },
  "cells": [
    {
      "cell_type": "markdown",
      "metadata": {
        "id": "view-in-github",
        "colab_type": "text"
      },
      "source": [
        "<a href=\"https://colab.research.google.com/github/JemuelR/CPEN-21-ECE-2-3/blob/main/Final_Exam.ipynb\" target=\"_parent\"><img src=\"https://colab.research.google.com/assets/colab-badge.svg\" alt=\"Open In Colab\"/></a>"
      ]
    },
    {
      "cell_type": "markdown",
      "source": [
        "##Problem Statement 1"
      ],
      "metadata": {
        "id": "HssYLnwPy91S"
      }
    },
    {
      "cell_type": "code",
      "source": [
        "sum=0\n",
        "number=[1, 2.87, 3, 4.99, 5.3, 6, 1, 2, 3, 4.6]\n",
        "for x in number:\n",
        " if x<5:\n",
        "  sum+=x\n",
        "  print(sum)"
      ],
      "metadata": {
        "id": "iM1gVC-HmWgv",
        "outputId": "dd4c1668-0e19-425a-88aa-a3465e20dec3",
        "colab": {
          "base_uri": "https://localhost:8080/"
        }
      },
      "execution_count": null,
      "outputs": [
        {
          "output_type": "stream",
          "name": "stdout",
          "text": [
            "1\n",
            "3.87\n",
            "6.87\n",
            "11.86\n",
            "12.86\n",
            "14.86\n",
            "17.86\n",
            "22.46\n"
          ]
        }
      ]
    },
    {
      "cell_type": "markdown",
      "source": [
        "##Problem Statement 2"
      ],
      "metadata": {
        "id": "xYyl_uYBy-LS"
      }
    },
    {
      "cell_type": "code",
      "source": [
        "num1=int(input(\"1st number \"))\n",
        "num2=int(input(\"2nd number \"))\n",
        "num3=int(input(\"3rd number \"))\n",
        "num4=int(input(\"4th number \"))\n",
        "num5=int(input(\"5th number \"))\n",
        "if num1>0:\n",
        " while num5>0:\n",
        "  num=num1+num5\n",
        "  print(\"Sum of 1st and 5th number is\",num)\n",
        "  if num==num:\n",
        "   break"
      ],
      "metadata": {
        "id": "sKdG3FkTKo77",
        "outputId": "1262d593-108b-4095-b2a4-5f78694da9b4",
        "colab": {
          "base_uri": "https://localhost:8080/"
        }
      },
      "execution_count": null,
      "outputs": [
        {
          "output_type": "stream",
          "name": "stdout",
          "text": [
            "1st number 8\n",
            "2nd number 9\n",
            "3rd number 7\n",
            "4th number 6\n",
            "5th number 9\n",
            "Sum of 1st and last number is 17\n"
          ]
        }
      ]
    },
    {
      "cell_type": "markdown",
      "source": [
        "##Problem Statement 3"
      ],
      "metadata": {
        "id": "W0lfBOIuy-fe"
      }
    },
    {
      "cell_type": "code",
      "source": [
        "grades=float(input(\"Enter your grades \"))\n",
        "x=(\"Your grade is\")\n",
        "if grades>=90:\n",
        " print(x,\"A\")\n",
        "else:\n",
        "  if grades>=80 and grades<90:\n",
        "   print(x,\"B\")\n",
        "  else:\n",
        "   if grades>=70 and grades<80:\n",
        "    print(x,\"C\")\n",
        "   else:\n",
        "    if grades>=60 and grades<70:\n",
        "     print(x,\"D\")\n",
        "    else:\n",
        "     print(x,\"F\")"
      ],
      "metadata": {
        "colab": {
          "base_uri": "https://localhost:8080/"
        },
        "id": "A4VezmAIy-o1",
        "outputId": "8e90549e-3a4c-4270-ee39-63d04ce9348f"
      },
      "execution_count": null,
      "outputs": [
        {
          "output_type": "stream",
          "name": "stdout",
          "text": [
            "Enter your grades 90\n",
            "Your grade is A\n"
          ]
        }
      ]
    }
  ]
}