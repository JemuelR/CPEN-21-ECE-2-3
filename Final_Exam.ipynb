{
  "cells": [
    {
      "cell_type": "markdown",
      "metadata": {
        "id": "view-in-github",
        "colab_type": "text"
      },
      "source": [
        "<a href=\"https://colab.research.google.com/github/JemuelR/CPEN-21-ECE-2-3/blob/main/Final_Exam.ipynb\" target=\"_parent\"><img src=\"https://colab.research.google.com/assets/colab-badge.svg\" alt=\"Open In Colab\"/></a>"
      ]
    },
    {
      "cell_type": "markdown",
      "metadata": {
        "id": "HssYLnwPy91S"
      },
      "source": [
        "##Problem Statement 1"
      ]
    },
    {
      "cell_type": "code",
      "execution_count": null,
      "metadata": {
        "colab": {
          "base_uri": "https://localhost:8080/"
        },
        "id": "WTvQMBpNVZ-A",
        "outputId": "6dea4beb-5f40-4665-f7d3-a3601dfad857"
      },
      "outputs": [
        {
          "output_type": "stream",
          "name": "stdout",
          "text": [
            "Sum of elements less than 5 is 25.72\n"
          ]
        }
      ],
      "source": [
        "num=[3.26, 1, 2.87, 3, 4.99, 5.3, 6, 1, 2, 3, 4.6]\n",
        "sum=0\n",
        "for x in num:\n",
        " if x<5:\n",
        "   sum+=x\n",
        "print(\"Sum of elements less than 5 is\",str(sum))"
      ]
    },
    {
      "cell_type": "markdown",
      "metadata": {
        "id": "xYyl_uYBy-LS"
      },
      "source": [
        "##Problem Statement 2"
      ]
    },
    {
      "cell_type": "code",
      "execution_count": null,
      "metadata": {
        "colab": {
          "base_uri": "https://localhost:8080/"
        },
        "id": "sKdG3FkTKo77",
        "outputId": "1262d593-108b-4095-b2a4-5f78694da9b4"
      },
      "outputs": [
        {
          "name": "stdout",
          "output_type": "stream",
          "text": [
            "1st number 8\n",
            "2nd number 9\n",
            "3rd number 7\n",
            "4th number 6\n",
            "5th number 9\n",
            "Sum of 1st and last number is 17\n"
          ]
        }
      ],
      "source": [
        "num1=int(input(\"1st number \"))\n",
        "num2=int(input(\"2nd number \"))\n",
        "num3=int(input(\"3rd number \"))\n",
        "num4=int(input(\"4th number \"))\n",
        "num5=int(input(\"5th number \"))\n",
        "if num1>0:\n",
        " while num5>0:\n",
        "  num=num1+num5\n",
        "  print(\"Sum of 1st and 5th number is\",strnum)\n",
        "  if num==num:\n",
        "   break"
      ]
    },
    {
      "cell_type": "markdown",
      "metadata": {
        "id": "W0lfBOIuy-fe"
      },
      "source": [
        "##Problem Statement 3"
      ]
    },
    {
      "cell_type": "code",
      "execution_count": null,
      "metadata": {
        "colab": {
          "base_uri": "https://localhost:8080/"
        },
        "id": "A4VezmAIy-o1",
        "outputId": "8e90549e-3a4c-4270-ee39-63d04ce9348f"
      },
      "outputs": [
        {
          "name": "stdout",
          "output_type": "stream",
          "text": [
            "Enter your grades 90\n",
            "Your grade is A\n"
          ]
        }
      ],
      "source": [
        "grades=float(input(\"Enter your grades \"))\n",
        "x=(\"Your grade is\")\n",
        "if grades>=90:\n",
        " print(x,\"A\")\n",
        "else:\n",
        "  if grades>=80 and grades<90:\n",
        "   print(x,\"B\")\n",
        "  else:\n",
        "   if grades>=70 and grades<80:\n",
        "    print(x,\"C\")\n",
        "   else:\n",
        "    if grades>=60 and grades<70:\n",
        "     print(x,\"D\")\n",
        "    else:\n",
        "     print(x,\"F\")"
      ]
    }
  ],
  "metadata": {
    "colab": {
      "name": "Final Exam.ipynb",
      "provenance": [],
      "collapsed_sections": [],
      "authorship_tag": "ABX9TyNuUPlW5po/Lq998PTx6dca",
      "include_colab_link": true
    },
    "kernelspec": {
      "display_name": "Python 3",
      "name": "python3"
    },
    "language_info": {
      "name": "python"
    }
  },
  "nbformat": 4,
  "nbformat_minor": 0
}