{
  "nbformat": 4,
  "nbformat_minor": 0,
  "metadata": {
    "colab": {
      "name": "Lab1",
      "provenance": [],
      "authorship_tag": "ABX9TyOjciW3cP7M4QR5cazZYVo2",
      "include_colab_link": true
    },
    "kernelspec": {
      "name": "python3",
      "display_name": "Python 3"
    },
    "language_info": {
      "name": "python"
    }
  },
  "cells": [
    {
      "cell_type": "markdown",
      "metadata": {
        "id": "view-in-github",
        "colab_type": "text"
      },
      "source": [
        "<a href=\"https://colab.research.google.com/github/JemuelR/CPEN-21-ECE-2-3/blob/main/Lab1.ipynb\" target=\"_parent\"><img src=\"https://colab.research.google.com/assets/colab-badge.svg\" alt=\"Open In Colab\"/></a>"
      ]
    },
    {
      "cell_type": "markdown",
      "metadata": {
        "id": "zkv8IEswgHBo"
      },
      "source": [
        "#Laboratory 1"
      ]
    },
    {
      "cell_type": "code",
      "metadata": {
        "colab": {
          "base_uri": "https://localhost:8080/"
        },
        "id": "yJaD8cdAgHT6",
        "outputId": "8f0002fe-b1cf-497d-8f9f-3bbf33c47b31"
      },
      "source": [
        "print(\"Welcome to Python Programming\")"
      ],
      "execution_count": null,
      "outputs": [
        {
          "output_type": "stream",
          "name": "stdout",
          "text": [
            "Welcome to Python Programming\n"
          ]
        }
      ]
    },
    {
      "cell_type": "code",
      "metadata": {
        "colab": {
          "base_uri": "https://localhost:8080/"
        },
        "id": "11tAX4eugSRp",
        "outputId": "aa9f802f-42e4-4976-95cd-d10958ed55ec"
      },
      "source": [
        "name=\"Jemuel E. Roderno\"\n",
        "address=\"Guyam Malaki, Indang, Cavite\"\n",
        "age=19\n",
        "print(name)\n",
        "print(address)\n",
        "print(age)"
      ],
      "execution_count": null,
      "outputs": [
        {
          "output_type": "stream",
          "name": "stdout",
          "text": [
            "Jemuel E. Roderno\n",
            "Guyam Malaki, Indang, Cavite\n",
            "19\n"
          ]
        }
      ]
    },
    {
      "cell_type": "markdown",
      "metadata": {
        "id": "F5rX0FU0jxF2"
      },
      "source": [
        ""
      ]
    }
  ]
}