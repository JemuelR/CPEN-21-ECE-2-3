{
  "nbformat": 4,
  "nbformat_minor": 0,
  "metadata": {
    "colab": {
      "name": "Lab1",
      "provenance": [],
      "authorship_tag": "ABX9TyOlQWxJqruW3/PgZ4bCh3ei",
      "include_colab_link": true
    },
    "kernelspec": {
      "name": "python3",
      "display_name": "Python 3"
    },
    "language_info": {
      "name": "python"
    }
  },
  "cells": [
    {
      "cell_type": "markdown",
      "metadata": {
        "id": "view-in-github",
        "colab_type": "text"
      },
      "source": [
        "<a href=\"https://colab.research.google.com/github/JemuelR/CPEN-21-ECE-2-3/blob/main/Lab1.ipynb\" target=\"_parent\"><img src=\"https://colab.research.google.com/assets/colab-badge.svg\" alt=\"Open In Colab\"/></a>"
      ]
    },
    {
      "cell_type": "markdown",
      "metadata": {
        "id": "zkv8IEswgHBo"
      },
      "source": [
        "#Laboratory 1"
      ]
    },
    {
      "cell_type": "code",
      "metadata": {
        "colab": {
          "base_uri": "https://localhost:8080/"
        },
        "id": "yJaD8cdAgHT6",
        "outputId": "8f0002fe-b1cf-497d-8f9f-3bbf33c47b31"
      },
      "source": [
        "print(\"Welcome to Python Programming\")"
      ],
      "execution_count": null,
      "outputs": [
        {
          "output_type": "stream",
          "name": "stdout",
          "text": [
            "Welcome to Python Programming\n"
          ]
        }
      ]
    },
    {
      "cell_type": "code",
      "metadata": {
        "colab": {
          "base_uri": "https://localhost:8080/"
        },
        "id": "11tAX4eugSRp",
        "outputId": "1d7361dc-4c8a-4b31-8ac6-e15679ca26c3"
      },
      "source": [
        "name=\"Jemuel E. Roderno\"\n",
        "address=\"Guyam Malaki, Indang, Cavite\"\n",
        "age=\"19 years old\"\n",
        "print(\"Hello I am \"+name)\n",
        "print(\"I am from \"+address)\n",
        "print(\"I am \"+age)"
      ],
      "execution_count": null,
      "outputs": [
        {
          "output_type": "stream",
          "name": "stdout",
          "text": [
            "Hello I am Jemuel E. Roderno\n",
            "I am from Guyam Malaki, Indang, Cavite\n",
            "I am 19 years old\n"
          ]
        }
      ]
    }
  ]
}