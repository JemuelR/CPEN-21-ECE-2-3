{
  "nbformat": 4,
  "nbformat_minor": 0,
  "metadata": {
    "colab": {
      "name": "Control Structure",
      "provenance": [],
      "collapsed_sections": [],
      "include_colab_link": true
    },
    "kernelspec": {
      "display_name": "Python 3",
      "name": "python3"
    }
  },
  "cells": [
    {
      "cell_type": "markdown",
      "metadata": {
        "id": "view-in-github",
        "colab_type": "text"
      },
      "source": [
        "<a href=\"https://colab.research.google.com/github/JemuelR/CPEN-21-ECE-2-3/blob/main/Control_Structure.ipynb\" target=\"_parent\"><img src=\"https://colab.research.google.com/assets/colab-badge.svg\" alt=\"Open In Colab\"/></a>"
      ]
    },
    {
      "cell_type": "markdown",
      "metadata": {
        "id": "AY9d6bZ_ys8z"
      },
      "source": [
        "##If Statement"
      ]
    },
    {
      "cell_type": "code",
      "metadata": {
        "id": "u5UNdSDvy0Y-",
        "colab": {
          "base_uri": "https://localhost:8080/"
        },
        "outputId": "8f28be57-033c-443e-c2ec-231078e6b6bd"
      },
      "source": [
        "a=12\n",
        "b=100\n",
        "if a<b:\n",
        "  print(\"a is less than b\")"
      ],
      "execution_count": null,
      "outputs": [
        {
          "output_type": "stream",
          "name": "stdout",
          "text": [
            "a is less than b\n"
          ]
        }
      ]
    },
    {
      "cell_type": "markdown",
      "metadata": {
        "id": "O-XHRCUkzXPw"
      },
      "source": [
        "##Elif Statement"
      ]
    },
    {
      "cell_type": "code",
      "metadata": {
        "id": "P73gXdGFzbrx",
        "colab": {
          "base_uri": "https://localhost:8080/"
        },
        "outputId": "3809eaac-ee24-404c-cf11-81d08ff8dfc6"
      },
      "source": [
        "a=30\n",
        "b=15\n",
        "if a<b:\n",
        " print(\"a is less than b\")\n",
        "elif a>b:\n",
        " print(\"a is greater than b\")"
      ],
      "execution_count": null,
      "outputs": [
        {
          "output_type": "stream",
          "name": "stdout",
          "text": [
            "a is greater than b\n"
          ]
        }
      ]
    },
    {
      "cell_type": "markdown",
      "metadata": {
        "id": "cqrC4su40DSU"
      },
      "source": [
        "##Else Statement"
      ]
    },
    {
      "cell_type": "code",
      "metadata": {
        "id": "3KlKDO6l0F_R",
        "colab": {
          "base_uri": "https://localhost:8080/"
        },
        "outputId": "8ea39fb5-ea18-4ceb-8490-4790a5da9867"
      },
      "source": [
        "a=30\n",
        "b=30\n",
        "if a<b:\n",
        " print(\"a is less than b\")\n",
        "elif a>b:\n",
        " print(\"a is greater than b\")\n",
        "else:\n",
        " print(\"a is equal to b\")"
      ],
      "execution_count": null,
      "outputs": [
        {
          "output_type": "stream",
          "name": "stdout",
          "text": [
            "a is equal to b\n"
          ]
        }
      ]
    },
    {
      "cell_type": "markdown",
      "metadata": {
        "id": "lPCD8am302kb"
      },
      "source": [
        "##Short Hand If Statement"
      ]
    },
    {
      "cell_type": "code",
      "metadata": {
        "id": "PTY01D721Ber",
        "colab": {
          "base_uri": "https://localhost:8080/"
        },
        "outputId": "7ed82c69-107c-4c3a-bdfc-73e9909ca654"
      },
      "source": [
        "a=75\n",
        "b=32\n",
        "\n",
        "if a>b: print(\"a is greater than b\")"
      ],
      "execution_count": null,
      "outputs": [
        {
          "output_type": "stream",
          "name": "stdout",
          "text": [
            "a is greater than b\n"
          ]
        }
      ]
    },
    {
      "cell_type": "markdown",
      "metadata": {
        "id": "-7f9h7pv1Nr6"
      },
      "source": [
        "##Short Hand If... Else Statement"
      ]
    },
    {
      "cell_type": "code",
      "metadata": {
        "id": "9CynXlLp1QhY",
        "colab": {
          "base_uri": "https://localhost:8080/"
        },
        "outputId": "9b53ff9e-6fe4-4085-a960-fb2c151e874a"
      },
      "source": [
        "print(\"a is greater than b\") if a>b else print(\"b is greater than a\")"
      ],
      "execution_count": null,
      "outputs": [
        {
          "output_type": "stream",
          "name": "stdout",
          "text": [
            "a is greater than b\n"
          ]
        }
      ]
    },
    {
      "cell_type": "markdown",
      "metadata": {
        "id": "SuvKPfPx2alr"
      },
      "source": [
        "##And Logic Condition"
      ]
    },
    {
      "cell_type": "code",
      "metadata": {
        "id": "Co_QmGJE2gCr",
        "colab": {
          "base_uri": "https://localhost:8080/"
        },
        "outputId": "939ac021-bac0-4bf0-a174-13f5797acb08"
      },
      "source": [
        "a=200\n",
        "b=33\n",
        "c=500\n",
        "if a>b and c>a:\n",
        " print(\"Both conditions are True\")\n",
        "else:\n",
        " print(\"either of the two conditions is True\")"
      ],
      "execution_count": null,
      "outputs": [
        {
          "output_type": "stream",
          "name": "stdout",
          "text": [
            "Both conditions are True\n"
          ]
        }
      ]
    },
    {
      "cell_type": "markdown",
      "metadata": {
        "id": "pCidpK1P3H7i"
      },
      "source": [
        "##Or Logic Condition"
      ]
    },
    {
      "cell_type": "code",
      "metadata": {
        "id": "im5BRNBe3LDn",
        "colab": {
          "base_uri": "https://localhost:8080/"
        },
        "outputId": "15da6313-8b34-41b5-f346-9831879694ff"
      },
      "source": [
        "if a<b or c>a:\n",
        " print (\"True\")\n",
        "else:\n",
        " print(\"False\")"
      ],
      "execution_count": null,
      "outputs": [
        {
          "output_type": "stream",
          "name": "stdout",
          "text": [
            "True\n"
          ]
        }
      ]
    },
    {
      "cell_type": "markdown",
      "metadata": {
        "id": "wdMRYerE3qaJ"
      },
      "source": [
        "##Nested If"
      ]
    },
    {
      "cell_type": "code",
      "metadata": {
        "id": "fEj-Qa6B3svG",
        "colab": {
          "base_uri": "https://localhost:8080/"
        },
        "outputId": "1e2732f5-0f53-4603-ec4f-c6cb72826f13"
      },
      "source": [
        "x=41\n",
        "\n",
        "if x>10:\n",
        " print(\"Above ten\")\n",
        " if x>20:\n",
        "  print(\"and above 20\")\n",
        "  if x>30:\n",
        "   print(\"and above 30\")\n",
        "  else:\n",
        "   print(\"not above 30\")\n",
        " else:\n",
        "  print(\"not above 20\")\n",
        "else:\n",
        " print(\"below 10\")"
      ],
      "execution_count": null,
      "outputs": [
        {
          "output_type": "stream",
          "name": "stdout",
          "text": [
            "Above ten\n",
            "and above 20\n",
            "and above 30\n"
          ]
        }
      ]
    },
    {
      "cell_type": "markdown",
      "metadata": {
        "id": "RtE-AvkN5uJR"
      },
      "source": [
        "##Example1"
      ]
    },
    {
      "cell_type": "code",
      "metadata": {
        "id": "Bw5hBYOj50e4",
        "colab": {
          "base_uri": "https://localhost:8080/"
        },
        "outputId": "b9f236c8-bb78-4d7e-fe49-df8604ea5d58"
      },
      "source": [
        "age=int(input(\"Enter your age \"))\n",
        "if age>=18:\n",
        " print(\"You are qualified to vote\")\n",
        "else:\n",
        " print(\"You are not qualified to vote\")"
      ],
      "execution_count": null,
      "outputs": [
        {
          "output_type": "stream",
          "name": "stdout",
          "text": [
            "Enter your age 18\n",
            "You are qualified to vote\n"
          ]
        }
      ]
    },
    {
      "cell_type": "markdown",
      "metadata": {
        "id": "iUzyLHZD8SZj"
      },
      "source": [
        "##Example 2"
      ]
    },
    {
      "cell_type": "code",
      "metadata": {
        "id": "bt9_rLuw8Ve7",
        "colab": {
          "base_uri": "https://localhost:8080/"
        },
        "outputId": "9dc2f38a-067d-404e-e6de-293c1aa234c2"
      },
      "source": [
        "number=int(input(\"Enter a number \"))\n",
        "if number>0:\n",
        " print(\"The number is Positive\")\n",
        "if number==0:\n",
        " print(\"The number is Zero\")\n",
        "if number<0:\n",
        " print(\"The number is Negative\")"
      ],
      "execution_count": 9,
      "outputs": [
        {
          "output_type": "stream",
          "name": "stdout",
          "text": [
            "Enter a number 0\n",
            "The number is Zero\n"
          ]
        }
      ]
    },
    {
      "cell_type": "markdown",
      "metadata": {
        "id": "DO2wGdPM8Y-U"
      },
      "source": [
        "##Example 3"
      ]
    },
    {
      "cell_type": "code",
      "metadata": {
        "id": "jpxP28zI8cAA",
        "colab": {
          "base_uri": "https://localhost:8080/"
        },
        "outputId": "41093575-f72c-4890-8afa-2394d5c2151a"
      },
      "source": [
        "#write a python program that determines that the grade are pass remedial or failed\n",
        "#grade>=75 \"Passed\"\n",
        "#grade==74 \"Remedial\"\n",
        "#grade<74 \"Failed\"\n",
        "\n",
        "grade=float(input(\"Enter your grade \"))\n",
        "if grade>=75:\n",
        " print(\"You Passed\")\n",
        "elif grade>74 and grade<75:\n",
        " print(\"Remedial\")\n",
        "else:\n",
        " print(\"You Failed\")"
      ],
      "execution_count": null,
      "outputs": [
        {
          "output_type": "stream",
          "name": "stdout",
          "text": [
            "Enter your grade 74.000001\n",
            "Remedial\n"
          ]
        }
      ]
    }
  ]
}