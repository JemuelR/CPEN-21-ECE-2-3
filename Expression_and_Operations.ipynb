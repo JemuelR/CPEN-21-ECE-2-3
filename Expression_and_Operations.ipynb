{
  "nbformat": 4,
  "nbformat_minor": 0,
  "metadata": {
    "colab": {
      "name": "Expression_and_Operations",
      "provenance": [],
      "collapsed_sections": [],
      "toc_visible": true,
      "include_colab_link": true
    },
    "kernelspec": {
      "display_name": "Python 3",
      "name": "python3"
    }
  },
  "cells": [
    {
      "cell_type": "markdown",
      "metadata": {
        "id": "view-in-github",
        "colab_type": "text"
      },
      "source": [
        "<a href=\"https://colab.research.google.com/github/JemuelR/CPEN-21-ECE-2-3/blob/main/Expression_and_Operations.ipynb\" target=\"_parent\"><img src=\"https://colab.research.google.com/assets/colab-badge.svg\" alt=\"Open In Colab\"/></a>"
      ]
    },
    {
      "cell_type": "markdown",
      "metadata": {
        "id": "J2liEusiqyRK"
      },
      "source": [
        "#Boolean Operators"
      ]
    },
    {
      "cell_type": "code",
      "metadata": {
        "id": "W1OrytUeq3Rk",
        "colab": {
          "base_uri": "https://localhost:8080/"
        },
        "outputId": "662c77af-c192-4d91-ebb2-42d1112e4646"
      },
      "source": [
        "a=1\n",
        "b=2\n",
        "\n",
        "print(a>b)\n",
        "print(a<b)\n",
        "print(a==a)\n",
        "print(a!=b)"
      ],
      "execution_count": null,
      "outputs": [
        {
          "output_type": "stream",
          "name": "stdout",
          "text": [
            "False\n",
            "True\n",
            "True\n",
            "True\n"
          ]
        }
      ]
    },
    {
      "cell_type": "markdown",
      "metadata": {
        "id": "T0L4CV3Wrcgg"
      },
      "source": [
        "#bool() function"
      ]
    },
    {
      "cell_type": "code",
      "metadata": {
        "id": "fZKp8KMXriTE",
        "colab": {
          "base_uri": "https://localhost:8080/"
        },
        "outputId": "322f7c09-a9fa-4124-9f7c-9e891910f983"
      },
      "source": [
        "print(bool(15))\n",
        "print(bool(True))\n",
        "print(bool(1))\n",
        "\n",
        "print(bool(False))\n",
        "print(bool(0))\n",
        "print(bool(None))\n",
        "print(bool())"
      ],
      "execution_count": null,
      "outputs": [
        {
          "output_type": "stream",
          "name": "stdout",
          "text": [
            "True\n",
            "True\n",
            "True\n",
            "False\n",
            "False\n",
            "False\n",
            "False\n"
          ]
        }
      ]
    },
    {
      "cell_type": "markdown",
      "metadata": {
        "id": "pIYBnEEQsQAU"
      },
      "source": [
        "#Functions return a Boolean"
      ]
    },
    {
      "cell_type": "code",
      "metadata": {
        "id": "VH8j-QEusVPY",
        "colab": {
          "base_uri": "https://localhost:8080/"
        },
        "outputId": "89a2817e-6458-498e-966a-5d34e03529ac"
      },
      "source": [
        "def myFunction():return True\n",
        "print(myFunction())"
      ],
      "execution_count": null,
      "outputs": [
        {
          "output_type": "stream",
          "name": "stdout",
          "text": [
            "True\n"
          ]
        }
      ]
    },
    {
      "cell_type": "code",
      "metadata": {
        "id": "tafaf5yIs_DR",
        "colab": {
          "base_uri": "https://localhost:8080/"
        },
        "outputId": "6fd6260e-2b72-4c61-9167-afad59f8d69e"
      },
      "source": [
        "def myFunction(): return False\n",
        "\n",
        "if myFunction(): \n",
        "  print(\"True\")\n",
        "else:\n",
        "  print(\"False\")"
      ],
      "execution_count": null,
      "outputs": [
        {
          "output_type": "stream",
          "name": "stdout",
          "text": [
            "False\n"
          ]
        }
      ]
    },
    {
      "cell_type": "markdown",
      "metadata": {
        "id": "eyNsVW3qtHLv"
      },
      "source": [
        "#Arithmetic Operator"
      ]
    },
    {
      "cell_type": "code",
      "metadata": {
        "id": "Xa1wWwhdtNVQ",
        "colab": {
          "base_uri": "https://localhost:8080/"
        },
        "outputId": "a6bf67a6-e9ee-420c-b419-d8b2983912a5"
      },
      "source": [
        "print(10>9)\n",
        "print(10<9)\n",
        "print(10==9)"
      ],
      "execution_count": null,
      "outputs": [
        {
          "output_type": "stream",
          "name": "stdout",
          "text": [
            "True\n",
            "False\n",
            "False\n"
          ]
        }
      ]
    },
    {
      "cell_type": "code",
      "metadata": {
        "id": "vcQVoeKJtWm1",
        "colab": {
          "base_uri": "https://localhost:8080/"
        },
        "outputId": "439f54d1-703b-45a2-e6bb-ea3bdf3e42eb"
      },
      "source": [
        "print(10+5)\n",
        "print(10-5)\n",
        "print(10*5)\n",
        "print(10/5)\n",
        "print(10%5) #modulo division that shows the remainder after division\n",
        "print(10//3) #floor division\n",
        "print(10**2) #concatenation"
      ],
      "execution_count": null,
      "outputs": [
        {
          "output_type": "stream",
          "name": "stdout",
          "text": [
            "15\n",
            "5\n",
            "50\n",
            "2.0\n",
            "0\n",
            "3\n",
            "100\n"
          ]
        }
      ]
    },
    {
      "cell_type": "markdown",
      "metadata": {
        "id": "m6NmNTp8vPUh"
      },
      "source": [
        "#Bitwise Operator"
      ]
    },
    {
      "cell_type": "code",
      "metadata": {
        "id": "f1Rmx5OdvSGS",
        "colab": {
          "base_uri": "https://localhost:8080/"
        },
        "outputId": "446faa0c-cb72-4cbc-95a4-28b77507a6bb"
      },
      "source": [
        "a=60 #0011 1100\n",
        "b=13 #0000 1101\n",
        "\n",
        "print(a&b)\n",
        "print(a|b)\n",
        "print(a^b)\n",
        "\n",
        "print(a<<2) #0011 1100   0111 1000-120\n",
        "print(a>>1) #0001 1110-30   carry bit-0"
      ],
      "execution_count": null,
      "outputs": [
        {
          "output_type": "stream",
          "name": "stdout",
          "text": [
            "12\n",
            "61\n",
            "49\n",
            "240\n",
            "30\n"
          ]
        }
      ]
    },
    {
      "cell_type": "markdown",
      "metadata": {
        "id": "yBb_hQwczqkM"
      },
      "source": [
        "#Assignment Operator"
      ]
    },
    {
      "cell_type": "code",
      "metadata": {
        "id": "Kb5548ir1G9G",
        "colab": {
          "base_uri": "https://localhost:8080/"
        },
        "outputId": "5f25078a-b3cb-48c6-cb7a-797102ee17ed"
      },
      "source": [
        "a+=3\n",
        "print(a)"
      ],
      "execution_count": null,
      "outputs": [
        {
          "output_type": "stream",
          "name": "stdout",
          "text": [
            "63\n"
          ]
        }
      ]
    },
    {
      "cell_type": "markdown",
      "metadata": {
        "id": "Dx9-Xx-b0hMv"
      },
      "source": [
        "#Logical Operator"
      ]
    },
    {
      "cell_type": "code",
      "metadata": {
        "id": "97HmxBgz0kAu",
        "colab": {
          "base_uri": "https://localhost:8080/"
        },
        "outputId": "cd05542e-c2aa-4a86-cd3e-5579f56d0119"
      },
      "source": [
        "a=True\n",
        "b=False\n",
        "\n",
        "print(a and b)\n",
        "print(a or b)\n",
        "print(not(a or b))\n",
        "\n",
        "print(a>b and b>a)\n",
        "print(a==a and b==b)\n",
        "print(not(a==a and b==b))"
      ],
      "execution_count": null,
      "outputs": [
        {
          "output_type": "stream",
          "name": "stdout",
          "text": [
            "False\n",
            "True\n",
            "False\n",
            "False\n",
            "True\n",
            "False\n"
          ]
        }
      ]
    },
    {
      "cell_type": "markdown",
      "metadata": {
        "id": "Ak2mFQAW2C2x"
      },
      "source": [
        "#Identity Operator"
      ]
    },
    {
      "cell_type": "code",
      "metadata": {
        "id": "M_urf_Xy2GTe",
        "colab": {
          "base_uri": "https://localhost:8080/"
        },
        "outputId": "3dfe6474-9255-45dd-fd34-5e1f5038ac41"
      },
      "source": [
        "print(a is b)\n",
        "print(a is not b)"
      ],
      "execution_count": null,
      "outputs": [
        {
          "output_type": "stream",
          "name": "stdout",
          "text": [
            "False\n",
            "True\n"
          ]
        }
      ]
    }
  ]
}