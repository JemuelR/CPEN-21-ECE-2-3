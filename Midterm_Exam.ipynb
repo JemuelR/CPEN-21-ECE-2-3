{
  "nbformat": 4,
  "nbformat_minor": 0,
  "metadata": {
    "colab": {
      "name": "Midterm Exam",
      "provenance": [],
      "collapsed_sections": [],
      "include_colab_link": true
    },
    "kernelspec": {
      "display_name": "Python 3",
      "name": "python3"
    }
  },
  "cells": [
    {
      "cell_type": "markdown",
      "metadata": {
        "id": "view-in-github",
        "colab_type": "text"
      },
      "source": [
        "<a href=\"https://colab.research.google.com/github/JemuelR/CPEN-21-ECE-2-3/blob/main/Midterm_Exam.ipynb\" target=\"_parent\"><img src=\"https://colab.research.google.com/assets/colab-badge.svg\" alt=\"Open In Colab\"/></a>"
      ]
    },
    {
      "cell_type": "markdown",
      "metadata": {
        "id": "TynwjzEOs8Jz"
      },
      "source": [
        "#Problem Statement 1"
      ]
    },
    {
      "cell_type": "code",
      "metadata": {
        "id": "XE5xipRWtBxJ",
        "colab": {
          "base_uri": "https://localhost:8080/"
        },
        "outputId": "59278744-734b-4119-dc36-9ffde230aebf"
      },
      "source": [
        "a=\"Jemuel Roderno\"\n",
        "b=\"202015587\"\n",
        "c=\"19 yrs. old\"\n",
        "d=\"April 9, 2002\"\n",
        "e=\"Guyam Malaki, Indang, Cavite\"\n",
        "f=\"BSECE 2-3\"\n",
        "g=\"1.76\"\n",
        "\n",
        "print(\"Full name: \" +a) \n",
        "print(\"Student Number: \" +b)\n",
        "print(\"Age: \" +c)\n",
        "print(\"Birthday: \" +d)\n",
        "print(\"Address: \" +e)\n",
        "print(\"Course: \" +f)\n",
        "print(\"Last Sem GWA: \" +g)"
      ],
      "execution_count": 13,
      "outputs": [
        {
          "output_type": "stream",
          "name": "stdout",
          "text": [
            "Full name: Jemuel Roderno\n",
            "Student Number: 202015587\n",
            "Age: 19 yrs. old\n",
            "Birthday: April 9, 2002\n",
            "Address: Guyam Malaki, Indang, Cavite\n",
            "Course: BSECE 2-3\n",
            "Last Sem GWA: 1.76\n"
          ]
        }
      ]
    },
    {
      "cell_type": "markdown",
      "metadata": {
        "id": "7Vy05V2Ou_QE"
      },
      "source": [
        "#PROBLEM STATEMENT 2"
      ]
    },
    {
      "cell_type": "code",
      "metadata": {
        "id": "0hDCQ4vQvZcB",
        "colab": {
          "base_uri": "https://localhost:8080/"
        },
        "outputId": "17990dc4-7821-4ce3-c8ab-59e2382f1a14"
      },
      "source": [
        "answ=\"Y\"\n",
        "n=4\n",
        "\n",
        "print(bool((2<n)&(n<6)))\n",
        "print(bool((2<n)or(n==6)))\n",
        "print(bool(not(2<n)|(n==6)))\n",
        "print(bool(not(n<6)))\n",
        "print(bool((answ==\"Y\")|(answ==\"y\")))\n",
        "print(bool((answ==\"Y\")&(answ==\"y\")))\n",
        "print(bool(not(answ==\"y\")))\n",
        "print(bool(((2<n)&(n==5+1))|(answ==\"No\")))\n",
        "print(bool(((n==2)&(n==7))|(answ==\"Y\")))\n",
        "print(bool((n==2)&((n==7)|(answ==\"Y\"))))"
      ],
      "execution_count": 12,
      "outputs": [
        {
          "output_type": "stream",
          "name": "stdout",
          "text": [
            "True\n",
            "True\n",
            "False\n",
            "False\n",
            "True\n",
            "False\n",
            "True\n",
            "False\n",
            "True\n",
            "False\n"
          ]
        }
      ]
    },
    {
      "cell_type": "markdown",
      "metadata": {
        "id": "WOiYhYRRwK8m"
      },
      "source": [
        "#PROBLEM STATEMENT 3."
      ]
    },
    {
      "cell_type": "code",
      "metadata": {
        "id": "9UeqpoNqxdti",
        "colab": {
          "base_uri": "https://localhost:8080/"
        },
        "outputId": "60d6c387-ddd2-4a1e-84df-ff051339f7bd"
      },
      "source": [
        "x=2\n",
        "y=-3\n",
        "w=7\n",
        "z=-10\n",
        "\n",
        "\n",
        "print(x/y) \n",
        "print(w/y/x)\n",
        "print(z/y%x)\n",
        "print(x%-y*w)\n",
        "print(x%y)\n",
        "print(z%w-y/x*5+5)\n",
        "print(9-x%(2+y))\n",
        "print(z//w)\n",
        "print((2+y)**2)\n",
        "print(w/x*2)"
      ],
      "execution_count": null,
      "outputs": [
        {
          "output_type": "stream",
          "name": "stdout",
          "text": [
            "-0.6666666666666666\n",
            "-1.1666666666666667\n",
            "1.3333333333333335\n",
            "14\n",
            "-1\n",
            "16.5\n",
            "9\n",
            "-2\n",
            "1\n",
            "7.0\n"
          ]
        }
      ]
    }
  ]
}